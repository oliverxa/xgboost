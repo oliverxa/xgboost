{
 "cells": [
  {
   "cell_type": "code",
   "execution_count": 1,
   "metadata": {},
   "outputs": [],
   "source": [
    "import pandas as pd\n",
    "import numpy as np\n",
    "get_ipython().run_line_magic('matplotlib', 'inline')"
   ]
  },
  {
   "cell_type": "code",
   "execution_count": 2,
   "metadata": {},
   "outputs": [
    {
     "name": "stderr",
     "output_type": "stream",
     "text": [
      "F:\\Anaconda\\envs\\xgboost\\lib\\site-packages\\IPython\\core\\interactiveshell.py:3063: DtypeWarning: Columns (12,18) have mixed types.Specify dtype option on import or set low_memory=False.\n",
      "  interactivity=interactivity, compiler=compiler, result=result)\n"
     ]
    }
   ],
   "source": [
    "# with open('dataset/Train_nyOWmfK.csv', 'rb') as fd:\n",
    "#     gzip_fd = gzip.GzipFile(fileobj=fd)\n",
    "#     train = pd.read_csv(gzip_fd)\n",
    "train = pd.read_csv('dataset/Train_nyOWmfK.csv',encoding='latin1')\n",
    "test = pd.read_csv('dataset/Test_bCtAN1w.csv',encoding='latin1')"
   ]
  },
  {
   "cell_type": "code",
   "execution_count": 3,
   "metadata": {},
   "outputs": [
    {
     "data": {
      "text/plain": [
       "((87020, 26), (37717, 24))"
      ]
     },
     "execution_count": 3,
     "metadata": {},
     "output_type": "execute_result"
    }
   ],
   "source": [
    "train.shape, test.shape"
   ]
  },
  {
   "cell_type": "code",
   "execution_count": 4,
   "metadata": {},
   "outputs": [
    {
     "data": {
      "text/plain": [
       "ID                        object\n",
       "Gender                    object\n",
       "City                      object\n",
       "Monthly_Income             int64\n",
       "DOB                       object\n",
       "Lead_Creation_Date        object\n",
       "Loan_Amount_Applied      float64\n",
       "Loan_Tenure_Applied      float64\n",
       "Existing_EMI             float64\n",
       "Employer_Name             object\n",
       "Salary_Account            object\n",
       "Mobile_Verified           object\n",
       "Var5                      object\n",
       "Var1                      object\n",
       "Loan_Amount_Submitted    float64\n",
       "Loan_Tenure_Submitted    float64\n",
       "Interest_Rate            float64\n",
       "Processing_Fee           float64\n",
       "EMI_Loan_Submitted        object\n",
       "Filled_Form               object\n",
       "Device_Type               object\n",
       "Var2                      object\n",
       "Source                    object\n",
       "Var4                       int64\n",
       "LoggedIn                   int64\n",
       "Disbursed                float64\n",
       "dtype: object"
      ]
     },
     "execution_count": 4,
     "metadata": {},
     "output_type": "execute_result"
    }
   ],
   "source": [
    "#查看每个属性的类型\n",
    "train.dtypes"
   ]
  },
  {
   "cell_type": "code",
   "execution_count": 5,
   "metadata": {},
   "outputs": [],
   "source": [
    "#Combine into data:\n",
    "train['source']= 'train'\n",
    "test['source'] = 'test'\n",
    "data=pd.concat([train, test],ignore_index=True)#将train.csv与test.csv合并，且各自原来的索引忽略，合并后的数据在新表中的用统一排列新的索引\n",
    "# print(data.shape)\n",
    "# print(data.dtypes)"
   ]
  },
  {
   "cell_type": "markdown",
   "metadata": {},
   "source": [
    "lambda只是一个表达式，函数体比def简单很多。<br>\n",
    "lambda的主体是一个表达式，而不是一个代码块。仅仅能在lambda表达式中封装有限的逻辑进去。<br>\n",
    "lambda表达式是起到一个函数速写的作用。允许在代码内嵌入一个函数的定义。<br>\n",
    "此处作用是看data数据集中每个属性的数据为null的个数<br>"
   ]
  },
  {
   "cell_type": "code",
   "execution_count": 6,
   "metadata": {},
   "outputs": [
    {
     "data": {
      "text/plain": [
       "ID                           0\n",
       "Gender                       0\n",
       "City                      1401\n",
       "Monthly_Income               0\n",
       "DOB                          0\n",
       "Lead_Creation_Date           0\n",
       "Loan_Amount_Applied        111\n",
       "Loan_Tenure_Applied        111\n",
       "Existing_EMI               111\n",
       "Employer_Name              113\n",
       "Salary_Account           16801\n",
       "Mobile_Verified              0\n",
       "Var5                         0\n",
       "Var1                         1\n",
       "Loan_Amount_Submitted    49535\n",
       "Loan_Tenure_Submitted    49535\n",
       "Interest_Rate            84901\n",
       "Processing_Fee           85346\n",
       "EMI_Loan_Submitted       84900\n",
       "Filled_Form                  0\n",
       "Device_Type                  0\n",
       "Var2                         0\n",
       "Source                       0\n",
       "Var4                         0\n",
       "LoggedIn                 37717\n",
       "Disbursed                37718\n",
       "source                       0\n",
       "dtype: int64"
      ]
     },
     "execution_count": 6,
     "metadata": {},
     "output_type": "execute_result"
    }
   ],
   "source": [
    "# Check missing:\n",
    "data.apply(lambda x: sum(x.isnull()))"
   ]
  },
  {
   "cell_type": "code",
   "execution_count": 7,
   "metadata": {},
   "outputs": [
    {
     "name": "stdout",
     "output_type": "stream",
     "text": [
      "\n",
      "Gender这一列数据的不同取值和出现的次数\n",
      "\n",
      "Male      71398\n",
      "Female    53339\n",
      "Name: Gender, dtype: int64\n",
      "\n",
      "Salary_Account这一列数据的不同取值和出现的次数\n",
      "\n",
      "HDFC Bank                                          25180\n",
      "ICICI Bank                                         19547\n",
      "State Bank of India                                17110\n",
      "Axis Bank                                          12590\n",
      "Citibank                                            3398\n",
      "Kotak Bank                                          2955\n",
      "IDBI Bank                                           2213\n",
      "Punjab National Bank                                1747\n",
      "Bank of India                                       1713\n",
      "Bank of Baroda                                      1675\n",
      "Standard Chartered Bank                             1434\n",
      "Canara Bank                                         1384\n",
      "Union Bank of India                                 1330\n",
      "Yes Bank                                            1120\n",
      "ING Vysya                                            996\n",
      "Corporation bank                                     948\n",
      "Indian Overseas Bank                                 901\n",
      "State Bank of Hyderabad                              854\n",
      "Indian Bank                                          773\n",
      "Oriental Bank of Commerce                            761\n",
      "IndusInd Bank                                        711\n",
      "Andhra Bank                                          706\n",
      "Central Bank of India                                648\n",
      "Syndicate Bank                                       614\n",
      "Bank of Maharasthra                                  576\n",
      "HSBC                                                 474\n",
      "State Bank of Bikaner & Jaipur                       448\n",
      "Karur Vysya Bank                                     435\n",
      "State Bank of Mysore                                 385\n",
      "Federal Bank                                         377\n",
      "Vijaya Bank                                          354\n",
      "Allahabad Bank                                       345\n",
      "UCO Bank                                             344\n",
      "State Bank of Travancore                             333\n",
      "Karnataka Bank                                       279\n",
      "United Bank of India                                 276\n",
      "Dena Bank                                            268\n",
      "Saraswat Bank                                        265\n",
      "State Bank of Patiala                                263\n",
      "South Indian Bank                                    223\n",
      "Deutsche Bank                                        176\n",
      "Abhyuday Co-op Bank Ltd                              161\n",
      "The Ratnakar Bank Ltd                                113\n",
      "Tamil Nadu Mercantile Bank                           103\n",
      "Punjab & Sind bank                                    84\n",
      "J&K Bank                                              78\n",
      "Lakshmi Vilas bank                                    69\n",
      "Dhanalakshmi Bank Ltd                                 66\n",
      "State Bank of Indore                                  32\n",
      "Catholic Syrian Bank                                  27\n",
      "India Bulls                                           21\n",
      "B N P Paribas                                         15\n",
      "Firstrand Bank Limited                                11\n",
      "GIC Housing Finance Ltd                               10\n",
      "Bank of Rajasthan                                      8\n",
      "Kerala Gramin Bank                                     4\n",
      "Industrial And Commercial Bank Of China Limited        3\n",
      "N                                                      1\n",
      "Ahmedabad Mercantile Cooperative Bank                  1\n",
      "Name: Salary_Account, dtype: int64\n",
      "\n",
      "Mobile_Verified这一列数据的不同取值和出现的次数\n",
      "\n",
      "Y    80928\n",
      "N    43808\n",
      "0        1\n",
      "Name: Mobile_Verified, dtype: int64\n",
      "\n",
      "Var1这一列数据的不同取值和出现的次数\n",
      "\n",
      "HBXX    84900\n",
      "HBXC    12952\n",
      "HBXB     6502\n",
      "HAXA     4214\n",
      "HBXA     3042\n",
      "HAXB     2879\n",
      "HBXD     2818\n",
      "HAXC     2171\n",
      "HBXH     1387\n",
      "HCXF      990\n",
      "HAYT      710\n",
      "HAVC      570\n",
      "HAXM      386\n",
      "HCXD      348\n",
      "HCYS      318\n",
      "HVYS      252\n",
      "HAZD      161\n",
      "HCXG      114\n",
      "HAXF       22\n",
      "Name: Var1, dtype: int64\n",
      "\n",
      "Filled_Form这一列数据的不同取值和出现的次数\n",
      "\n",
      "N         96739\n",
      "Y         27997\n",
      "Mobile        1\n",
      "Name: Filled_Form, dtype: int64\n",
      "\n",
      "Device_Type这一列数据的不同取值和出现的次数\n",
      "\n",
      "Web-browser    92105\n",
      "Mobile         32631\n",
      "G                  1\n",
      "Name: Device_Type, dtype: int64\n",
      "\n",
      "Var2这一列数据的不同取值和出现的次数\n",
      "\n",
      "B       53481\n",
      "G       47337\n",
      "C       20366\n",
      "E        1855\n",
      "D         918\n",
      "F         770\n",
      "A           9\n",
      "S122        1\n",
      "Name: Var2, dtype: int64\n",
      "\n",
      "Source这一列数据的不同取值和出现的次数\n",
      "\n",
      "S122    55248\n",
      "S133    42900\n",
      "S159     7999\n",
      "S143     6140\n",
      "S127     2804\n",
      "S137     2450\n",
      "S134     1900\n",
      "S161     1109\n",
      "S151     1018\n",
      "S157      929\n",
      "S153      705\n",
      "S144      447\n",
      "S156      432\n",
      "S158      294\n",
      "S123      112\n",
      "S141       83\n",
      "S162       60\n",
      "S124       43\n",
      "S150       19\n",
      "S160       11\n",
      "S138        5\n",
      "S136        5\n",
      "S155        5\n",
      "S139        4\n",
      "S129        4\n",
      "S135        2\n",
      "S142        1\n",
      "S130        1\n",
      "S140        1\n",
      "S126        1\n",
      "S132        1\n",
      "S131        1\n",
      "S154        1\n",
      "S125        1\n",
      "1           1\n",
      "Name: Source, dtype: int64\n"
     ]
    }
   ],
   "source": [
    "# Look at categories of all object variables:\n",
    "var = ['Gender','Salary_Account','Mobile_Verified','Var1','Filled_Form','Device_Type','Var2','Source']\n",
    "for v in var:\n",
    "    print('\\n%s这一列数据的不同取值和出现的次数\\n'%v)\n",
    "    print(data[v].value_counts())"
   ]
  },
  {
   "cell_type": "markdown",
   "metadata": {},
   "source": [
    "舍弃\"City\"属性，因为这一属性的取值种类太过复杂<br>\n",
    "axis=0表示的是要对横坐标操作，axis=1是要对纵坐标操作<br>\n",
    "inplace=False表示要对结果显示，而True表示对结果不显示<br>"
   ]
  },
  {
   "cell_type": "code",
   "execution_count": 8,
   "metadata": {},
   "outputs": [],
   "source": [
    "len(data['City'].unique())\n",
    "data.drop('City',axis=1,inplace=True)"
   ]
  },
  {
   "cell_type": "code",
   "execution_count": 9,
   "metadata": {},
   "outputs": [],
   "source": [
    "# Determine Age from DOB\n",
    "data['DOB'].head()\n",
    "#删除原先的字段\n",
    "data.drop('DOB',axis=1,inplace=True)"
   ]
  },
  {
   "cell_type": "markdown",
   "metadata": {},
   "source": [
    "DOB是出生的具体日期，咱们要具体日期作用没那么大<br>\n",
    "年龄段可能对我们有用，所以算一下年龄好了<br>\n",
    "创建一个年龄的字段Age<br>"
   ]
  },
  {
   "cell_type": "code",
   "execution_count": 11,
   "metadata": {},
   "outputs": [],
   "source": [
    "#data.boxplot(column=['EMI_Loan_Submitted'],return_type='axes')#画出箱线图\n",
    "#创建了EMI_Loan_Submitted_Missing这个变量，当EMI_Loan_Submitted 变量值缺失时它的值为1，否则为0。然后舍弃了EMI_Loan_Submitted。\n",
    "data['EMI_Loan_Submitted_Missing'] = data['EMI_Loan_Submitted'].apply(lambda x: 1 if pd.isnull(x) else 0)\n",
    "data[['EMI_Loan_Submitted','EMI_Loan_Submitted_Missing']].head(10)\n",
    "#drop original vaiables:\n",
    "data.drop('EMI_Loan_Submitted',axis=1,inplace=True)"
   ]
  },
  {
   "cell_type": "code",
   "execution_count": 13,
   "metadata": {},
   "outputs": [],
   "source": [
    "len(data['Employer_Name'].value_counts())\n",
    "#EmployerName的值也太多了，我把它也舍弃了\n",
    "data.drop('Employer_Name',axis=1,inplace=True)"
   ]
  },
  {
   "cell_type": "code",
   "execution_count": 14,
   "metadata": {},
   "outputs": [
    {
     "data": {
      "image/png": "[encoded data removed]",
      "text/plain": [
       "<Figure size 432x288 with 1 Axes>"
      ]
     },
     "metadata": {
      "needs_background": "light"
     },
     "output_type": "display_data"
    }
   ],
   "source": [
    "#Existing_EMI的缺失值被填补为0（中位数），因为只有111个缺失值\n",
    "data.boxplot(column='Existing_EMI',return_type='axes')\n",
    "data['Existing_EMI'].describe()\n",
    "#Impute by median (0) because just 111 missing:\n",
    "data['Existing_EMI'].fillna(0, inplace=True)"
   ]
  },
  {
   "cell_type": "code",
   "execution_count": 15,
   "metadata": {},
   "outputs": [
    {
     "name": "stdout",
     "output_type": "stream",
     "text": [
      "   Interest_Rate  Interest_Rate_Missing\n",
      "0            NaN                      1\n",
      "1          13.25                      0\n",
      "2            NaN                      1\n",
      "3            NaN                      1\n",
      "4            NaN                      1\n",
      "5          13.99                      0\n",
      "6            NaN                      1\n",
      "7            NaN                      1\n",
      "8          14.85                      0\n",
      "9          18.25                      0\n"
     ]
    }
   ],
   "source": [
    "#Majority values missing so I'll create a new variable stating whether this is missing or note:\n",
    "data['Interest_Rate_Missing'] = data['Interest_Rate'].apply(lambda x: 1 if pd.isnull(x) else 0)\n",
    "print(data[['Interest_Rate','Interest_Rate_Missing']].head(10))\n",
    "\n",
    "data.drop('Interest_Rate',axis=1,inplace=True)"
   ]
  },
  {
   "cell_type": "code",
   "execution_count": 16,
   "metadata": {},
   "outputs": [],
   "source": [
    "#Drop this variable because doesn't appear to affect much intuitively\n",
    "data.drop('Lead_Creation_Date',axis=1,inplace=True)"
   ]
  },
  {
   "cell_type": "code",
   "execution_count": 17,
   "metadata": {},
   "outputs": [],
   "source": [
    "#Impute with median because only 111 missing:\n",
    "data['Loan_Amount_Applied'].fillna(data['Loan_Amount_Applied'].median(),inplace=True)\n",
    "data['Loan_Tenure_Applied'].fillna(data['Loan_Tenure_Applied'].median(),inplace=True)"
   ]
  },
  {
   "cell_type": "code",
   "execution_count": 18,
   "metadata": {},
   "outputs": [],
   "source": [
    "#High proportion missing so create a new var whether present or not\n",
    "data['Loan_Amount_Submitted_Missing'] = data['Loan_Amount_Submitted'].apply(lambda x: 1 if pd.isnull(x) else 0)\n",
    "data['Loan_Tenure_Submitted_Missing'] = data['Loan_Tenure_Submitted'].apply(lambda x: 1 if pd.isnull(x) else 0)"
   ]
  },
  {
   "cell_type": "code",
   "execution_count": 19,
   "metadata": {},
   "outputs": [],
   "source": [
    "#创建了Loan_Amount_Submitted_Missing变量，当Loan_Amount_Submitted有缺失值时为1，反之为0，原本的Loan_Amount_Submitted变量被舍弃\n",
    "#创建了Loan_Tenure_Submitted_Missing变量，当Loan_Tenure_Submitted有缺失值时为1，反之为0，原本的Loan_Tenure_Submitted变量被舍弃\n",
    "data.drop(['Loan_Amount_Submitted','Loan_Tenure_Submitted'],axis=1,inplace=True)"
   ]
  },
  {
   "cell_type": "code",
   "execution_count": 20,
   "metadata": {},
   "outputs": [],
   "source": [
    "#舍弃了LoggedIn,和Salary_Account\n",
    "data.drop('LoggedIn',axis=1,inplace=True)"
   ]
  },
  {
   "cell_type": "code",
   "execution_count": 21,
   "metadata": {},
   "outputs": [],
   "source": [
    "#Salary account has mnay banks which have to be manually grouped\n",
    "data.drop('Salary_Account',axis=1,inplace=True)"
   ]
  },
  {
   "cell_type": "code",
   "execution_count": 22,
   "metadata": {},
   "outputs": [],
   "source": [
    "#High proportion missing so create a new var whether present or not\n",
    "data['Processing_Fee_Missing'] = data['Processing_Fee'].apply(lambda x: 1 if pd.isnull(x) else 0)\n",
    "#drop old\n",
    "data.drop('Processing_Fee',axis=1,inplace=True)"
   ]
  },
  {
   "cell_type": "code",
   "execution_count": 23,
   "metadata": {},
   "outputs": [
    {
     "name": "stdout",
     "output_type": "stream",
     "text": [
      "0           S122\n",
      "1           S122\n",
      "2         others\n",
      "3         others\n",
      "4         others\n",
      "           ...  \n",
      "124732      S122\n",
      "124733      S122\n",
      "124734      S122\n",
      "124735      S122\n",
      "124736      S122\n",
      "Name: Source, Length: 124737, dtype: object\n"
     ]
    }
   ],
   "source": [
    "#Source-top保留了2个，其他组合成了不同的类别\n",
    " \n",
    "data['Source'] = data['Source'].apply(lambda x: 'others' if x not in ['S122','S133'] else x)\n",
    "data['Source'].value_counts()\n",
    "print(data['Source'])"
   ]
  },
  {
   "cell_type": "code",
   "execution_count": 25,
   "metadata": {},
   "outputs": [
    {
     "data": {
      "text/plain": [
       "ID                                   0\n",
       "Gender                               0\n",
       "Monthly_Income                       0\n",
       "Loan_Amount_Applied                  0\n",
       "Loan_Tenure_Applied                  0\n",
       "Existing_EMI                         0\n",
       "Mobile_Verified                      0\n",
       "Var5                                 0\n",
       "Var1                                 1\n",
       "Filled_Form                          0\n",
       "Device_Type                          0\n",
       "Var2                                 0\n",
       "Source                               0\n",
       "Var4                                 0\n",
       "Disbursed                        37718\n",
       "source                               0\n",
       "EMI_Loan_Submitted_Missing           0\n",
       "Interest_Rate_Missing                0\n",
       "Loan_Amount_Submitted_Missing        0\n",
       "Loan_Tenure_Submitted_Missing        0\n",
       "Processing_Fee_Missing               0\n",
       "dtype: int64"
      ]
     },
     "execution_count": 25,
     "metadata": {},
     "output_type": "execute_result"
    }
   ],
   "source": [
    "data.apply(lambda x: sum(x.isnull()))"
   ]
  },
  {
   "cell_type": "code",
   "execution_count": 26,
   "metadata": {},
   "outputs": [
    {
     "data": {
      "text/plain": [
       "ID                                object\n",
       "Gender                            object\n",
       "Monthly_Income                     int64\n",
       "Loan_Amount_Applied              float64\n",
       "Loan_Tenure_Applied              float64\n",
       "Existing_EMI                     float64\n",
       "Mobile_Verified                   object\n",
       "Var5                              object\n",
       "Var1                              object\n",
       "Filled_Form                       object\n",
       "Device_Type                       object\n",
       "Var2                              object\n",
       "Source                            object\n",
       "Var4                               int64\n",
       "Disbursed                        float64\n",
       "source                            object\n",
       "EMI_Loan_Submitted_Missing         int64\n",
       "Interest_Rate_Missing              int64\n",
       "Loan_Amount_Submitted_Missing      int64\n",
       "Loan_Tenure_Submitted_Missing      int64\n",
       "Processing_Fee_Missing             int64\n",
       "dtype: object"
      ]
     },
     "execution_count": 26,
     "metadata": {},
     "output_type": "execute_result"
    }
   ],
   "source": [
    "data.dtypes"
   ]
  },
  {
   "cell_type": "code",
   "execution_count": 28,
   "metadata": {},
   "outputs": [],
   "source": [
    "#给不同的数字编码，起到区分作用的\n",
    "from sklearn.preprocessing import LabelEncoder"
   ]
  },
  {
   "cell_type": "code",
   "execution_count": 30,
   "metadata": {},
   "outputs": [],
   "source": [
    "le = LabelEncoder()\n",
    "var_to_encode = ['Device_Type','Filled_Form','Gender','Var1','Var2','Mobile_Verified','Source']\n",
    "for col in var_to_encode:\n",
    "    data[col] = le.fit_transform(data[col].astype(str))"
   ]
  },
  {
   "cell_type": "code",
   "execution_count": 31,
   "metadata": {},
   "outputs": [
    {
     "name": "stdout",
     "output_type": "stream",
     "text": [
      "                 ID  Monthly_Income  Loan_Amount_Applied  Loan_Tenure_Applied  \\\n",
      "0       ID000002C20           20000             300000.0                  5.0   \n",
      "1       ID000004E40           35000             200000.0                  2.0   \n",
      "2       ID000007H20           22500             600000.0                  4.0   \n",
      "3       ID000008I30           35000            1000000.0                  5.0   \n",
      "4       ID000009J40          100000             500000.0                  2.0   \n",
      "...             ...             ...                  ...                  ...   \n",
      "124732  ID124809J40           40000            1000000.0                  4.0   \n",
      "124733  ID124817R20           20500                  0.0                  0.0   \n",
      "124734  ID124820U00           25000                  0.0                  0.0   \n",
      "124735  ID124822W20          130000             600000.0                  0.0   \n",
      "124736  ID124823X30           30000             100000.0                  1.0   \n",
      "\n",
      "        Existing_EMI Var5  Var4  Disbursed source  EMI_Loan_Submitted_Missing  \\\n",
      "0                0.0    0     1        0.0  train                           1   \n",
      "1                0.0   13     3        0.0  train                           0   \n",
      "2                0.0    0     1        0.0  train                           1   \n",
      "3                0.0   10     3        0.0  train                           1   \n",
      "4            25000.0   17     3        0.0  train                           1   \n",
      "...              ...  ...   ...        ...    ...                         ...   \n",
      "124732       10000.0    7     3        NaN   test                           1   \n",
      "124733           0.0    1     5        NaN   test                           0   \n",
      "124734           0.0    1     3        NaN   test                           1   \n",
      "124735       67000.0    0     1        NaN   test                           1   \n",
      "124736        4364.0    9     3        NaN   test                           1   \n",
      "\n",
      "        ...  Var2_4  Var2_5  Var2_6  Var2_7  Mobile_Verified_0  \\\n",
      "0       ...       0       0       1       0                  0   \n",
      "1       ...       0       0       1       0                  0   \n",
      "2       ...       0       0       0       0                  0   \n",
      "3       ...       0       0       0       0                  0   \n",
      "4       ...       0       0       0       0                  0   \n",
      "...     ...     ...     ...     ...     ...                ...   \n",
      "124732  ...       0       0       1       0                  0   \n",
      "124733  ...       0       0       1       0                  0   \n",
      "124734  ...       0       0       1       0                  0   \n",
      "124735  ...       0       0       1       0                  0   \n",
      "124736  ...       0       0       1       0                  0   \n",
      "\n",
      "        Mobile_Verified_1  Mobile_Verified_2  Source_0  Source_1  Source_2  \n",
      "0                       1                  0         1         0         0  \n",
      "1                       0                  1         1         0         0  \n",
      "2                       0                  1         0         0         1  \n",
      "3                       0                  1         0         0         1  \n",
      "4                       0                  1         0         0         1  \n",
      "...                   ...                ...       ...       ...       ...  \n",
      "124732                  1                  0         1         0         0  \n",
      "124733                  0                  1         1         0         0  \n",
      "124734                  0                  1         1         0         0  \n",
      "124735                  1                  0         1         0         0  \n",
      "124736                  0                  1         1         0         0  \n",
      "\n",
      "[124737 rows x 56 columns]\n"
     ]
    }
   ],
   "source": [
    "#get_dummies 是利用pandas实现one hot encode的方式。\n",
    "data = pd.get_dummies(data, columns=var_to_encode)\n",
    "print(data)"
   ]
  },
  {
   "cell_type": "code",
   "execution_count": 32,
   "metadata": {},
   "outputs": [
    {
     "name": "stdout",
     "output_type": "stream",
     "text": [
      "0         train\n",
      "1         train\n",
      "2         train\n",
      "3         train\n",
      "4         train\n",
      "          ...  \n",
      "124732     test\n",
      "124733     test\n",
      "124734     test\n",
      "124735     test\n",
      "124736     test\n",
      "Name: source, Length: 124737, dtype: object\n"
     ]
    }
   ],
   "source": [
    "print(data['source'])\n",
    "train = data.loc[data['source']=='train']\n",
    "test = data.loc[data['source']=='test']\n",
    "#print(train.source)\n",
    "#print(test.source)"
   ]
  },
  {
   "cell_type": "code",
   "execution_count": 33,
   "metadata": {},
   "outputs": [
    {
     "name": "stderr",
     "output_type": "stream",
     "text": [
      "F:\\Anaconda\\envs\\xgboost\\lib\\site-packages\\pandas\\core\\frame.py:3997: SettingWithCopyWarning: \n",
      "A value is trying to be set on a copy of a slice from a DataFrame\n",
      "\n",
      "See the caveats in the documentation: https://pandas.pydata.org/pandas-docs/stable/user_guide/indexing.html#returning-a-view-versus-a-copy\n",
      "  errors=errors,\n"
     ]
    }
   ],
   "source": [
    "train.drop('source',axis=1,inplace=True)\n",
    "test.drop(['source','Disbursed'],axis=1,inplace=True)"
   ]
  },
  {
   "cell_type": "code",
   "execution_count": 34,
   "metadata": {},
   "outputs": [],
   "source": [
    "train.to_csv('dataset/train_modified.csv',index=False)\n",
    "test.to_csv('dataset/test_modified.csv',index=False)"
   ]
  },
  {
   "cell_type": "code",
   "execution_count": null,
   "metadata": {},
   "outputs": [],
   "source": []
  }
 ],
 "metadata": {
  "kernelspec": {
   "display_name": "xgboost",
   "language": "python",
   "name": "xgboost"
  },
  "language_info": {
   "codemirror_mode": {
    "name": "ipython",
    "version": 3
   },
   "file_extension": ".py",
   "mimetype": "text/x-python",
   "name": "python",
   "nbconvert_exporter": "python",
   "pygments_lexer": "ipython3",
   "version": "3.6.10"
  }
 },
 "nbformat": 4,
 "nbformat_minor": 2
}
